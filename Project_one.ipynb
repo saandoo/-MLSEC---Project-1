{
  "cells": [
    {
      "cell_type": "code",
      "execution_count": 1,
      "metadata": {
        "colab": {
          "base_uri": "https://localhost:8080/"
        },
        "id": "CBq4Pf2kKT0T",
        "outputId": "81bb735a-43c3-4573-b655-88a5b2975790"
      },
      "outputs": [
        {
          "output_type": "stream",
          "name": "stdout",
          "text": [
            "Collecting git+https://github.com/RobustBench/robustbench.git\n",
            "  Cloning https://github.com/RobustBench/robustbench.git to /tmp/pip-req-build-ta53jlkl\n",
            "  Running command git clone --filter=blob:none --quiet https://github.com/RobustBench/robustbench.git /tmp/pip-req-build-ta53jlkl\n",
            "  Resolved https://github.com/RobustBench/robustbench.git to commit 776bc95bb4167827fb102a32ac5aea62e46cfaab\n",
            "  Preparing metadata (setup.py) ... \u001b[?25l\u001b[?25hdone\n",
            "Collecting autoattack@ git+https://github.com/fra31/auto-attack.git@a39220048b3c9f2cca9a4d3a54604793c68eca7e#egg=autoattack (from robustbench==1.1)\n",
            "  Cloning https://github.com/fra31/auto-attack.git (to revision a39220048b3c9f2cca9a4d3a54604793c68eca7e) to /tmp/pip-install-ysy5eef0/autoattack_a93f3ee78d4d4416858af374103bd959\n",
            "  Running command git clone --filter=blob:none --quiet https://github.com/fra31/auto-attack.git /tmp/pip-install-ysy5eef0/autoattack_a93f3ee78d4d4416858af374103bd959\n",
            "  Running command git rev-parse -q --verify 'sha^a39220048b3c9f2cca9a4d3a54604793c68eca7e'\n",
            "  Running command git fetch -q https://github.com/fra31/auto-attack.git a39220048b3c9f2cca9a4d3a54604793c68eca7e\n",
            "  Resolved https://github.com/fra31/auto-attack.git to commit a39220048b3c9f2cca9a4d3a54604793c68eca7e\n",
            "  Preparing metadata (setup.py) ... \u001b[?25l\u001b[?25hdone\n",
            "Requirement already satisfied: torch>=1.7.1 in /usr/local/lib/python3.10/dist-packages (from robustbench==1.1) (2.4.1+cu121)\n",
            "Requirement already satisfied: torchvision>=0.8.2 in /usr/local/lib/python3.10/dist-packages (from robustbench==1.1) (0.19.1+cu121)\n",
            "Collecting torchdiffeq (from robustbench==1.1)\n",
            "  Downloading torchdiffeq-0.2.4-py3-none-any.whl.metadata (440 bytes)\n",
            "Collecting geotorch (from robustbench==1.1)\n",
            "  Downloading geotorch-0.3.0-py3-none-any.whl.metadata (14 kB)\n",
            "Requirement already satisfied: requests>=2.25.0 in /usr/local/lib/python3.10/dist-packages (from robustbench==1.1) (2.32.3)\n",
            "Requirement already satisfied: numpy>=1.19.4 in /usr/local/lib/python3.10/dist-packages (from robustbench==1.1) (1.26.4)\n",
            "Requirement already satisfied: Jinja2~=3.1.2 in /usr/local/lib/python3.10/dist-packages (from robustbench==1.1) (3.1.4)\n",
            "Requirement already satisfied: tqdm>=4.56.1 in /usr/local/lib/python3.10/dist-packages (from robustbench==1.1) (4.66.5)\n",
            "Requirement already satisfied: pandas>=1.3.5 in /usr/local/lib/python3.10/dist-packages (from robustbench==1.1) (2.1.4)\n",
            "Collecting timm>=0.9.0 (from robustbench==1.1)\n",
            "  Downloading timm-1.0.9-py3-none-any.whl.metadata (42 kB)\n",
            "\u001b[2K     \u001b[90m━━━━━━━━━━━━━━━━━━━━━━━━━━━━━━━━━━━━━━━━\u001b[0m \u001b[32m42.4/42.4 kB\u001b[0m \u001b[31m2.7 MB/s\u001b[0m eta \u001b[36m0:00:00\u001b[0m\n",
            "\u001b[?25hCollecting gdown==5.1.0 (from robustbench==1.1)\n",
            "  Downloading gdown-5.1.0-py3-none-any.whl.metadata (5.7 kB)\n",
            "Requirement already satisfied: pyyaml in /usr/local/lib/python3.10/dist-packages (from robustbench==1.1) (6.0.2)\n",
            "Requirement already satisfied: beautifulsoup4 in /usr/local/lib/python3.10/dist-packages (from gdown==5.1.0->robustbench==1.1) (4.12.3)\n",
            "Requirement already satisfied: filelock in /usr/local/lib/python3.10/dist-packages (from gdown==5.1.0->robustbench==1.1) (3.16.1)\n",
            "Requirement already satisfied: MarkupSafe>=2.0 in /usr/local/lib/python3.10/dist-packages (from Jinja2~=3.1.2->robustbench==1.1) (2.1.5)\n",
            "Requirement already satisfied: python-dateutil>=2.8.2 in /usr/local/lib/python3.10/dist-packages (from pandas>=1.3.5->robustbench==1.1) (2.8.2)\n",
            "Requirement already satisfied: pytz>=2020.1 in /usr/local/lib/python3.10/dist-packages (from pandas>=1.3.5->robustbench==1.1) (2024.2)\n",
            "Requirement already satisfied: tzdata>=2022.1 in /usr/local/lib/python3.10/dist-packages (from pandas>=1.3.5->robustbench==1.1) (2024.1)\n",
            "Requirement already satisfied: charset-normalizer<4,>=2 in /usr/local/lib/python3.10/dist-packages (from requests>=2.25.0->robustbench==1.1) (3.3.2)\n",
            "Requirement already satisfied: idna<4,>=2.5 in /usr/local/lib/python3.10/dist-packages (from requests>=2.25.0->robustbench==1.1) (3.10)\n",
            "Requirement already satisfied: urllib3<3,>=1.21.1 in /usr/local/lib/python3.10/dist-packages (from requests>=2.25.0->robustbench==1.1) (2.2.3)\n",
            "Requirement already satisfied: certifi>=2017.4.17 in /usr/local/lib/python3.10/dist-packages (from requests>=2.25.0->robustbench==1.1) (2024.8.30)\n",
            "Requirement already satisfied: huggingface_hub in /usr/local/lib/python3.10/dist-packages (from timm>=0.9.0->robustbench==1.1) (0.24.7)\n",
            "Requirement already satisfied: safetensors in /usr/local/lib/python3.10/dist-packages (from timm>=0.9.0->robustbench==1.1) (0.4.5)\n",
            "Requirement already satisfied: typing-extensions>=4.8.0 in /usr/local/lib/python3.10/dist-packages (from torch>=1.7.1->robustbench==1.1) (4.12.2)\n",
            "Requirement already satisfied: sympy in /usr/local/lib/python3.10/dist-packages (from torch>=1.7.1->robustbench==1.1) (1.13.3)\n",
            "Requirement already satisfied: networkx in /usr/local/lib/python3.10/dist-packages (from torch>=1.7.1->robustbench==1.1) (3.3)\n",
            "Requirement already satisfied: fsspec in /usr/local/lib/python3.10/dist-packages (from torch>=1.7.1->robustbench==1.1) (2024.6.1)\n",
            "Requirement already satisfied: pillow!=8.3.*,>=5.3.0 in /usr/local/lib/python3.10/dist-packages (from torchvision>=0.8.2->robustbench==1.1) (10.4.0)\n",
            "Requirement already satisfied: scipy>=1.4.0 in /usr/local/lib/python3.10/dist-packages (from torchdiffeq->robustbench==1.1) (1.13.1)\n",
            "Requirement already satisfied: six>=1.5 in /usr/local/lib/python3.10/dist-packages (from python-dateutil>=2.8.2->pandas>=1.3.5->robustbench==1.1) (1.16.0)\n",
            "Requirement already satisfied: soupsieve>1.2 in /usr/local/lib/python3.10/dist-packages (from beautifulsoup4->gdown==5.1.0->robustbench==1.1) (2.6)\n",
            "Requirement already satisfied: packaging>=20.9 in /usr/local/lib/python3.10/dist-packages (from huggingface_hub->timm>=0.9.0->robustbench==1.1) (24.1)\n",
            "Requirement already satisfied: PySocks!=1.5.7,>=1.5.6 in /usr/local/lib/python3.10/dist-packages (from requests[socks]->gdown==5.1.0->robustbench==1.1) (1.7.1)\n",
            "Requirement already satisfied: mpmath<1.4,>=1.1.0 in /usr/local/lib/python3.10/dist-packages (from sympy->torch>=1.7.1->robustbench==1.1) (1.3.0)\n",
            "Downloading gdown-5.1.0-py3-none-any.whl (17 kB)\n",
            "Downloading timm-1.0.9-py3-none-any.whl (2.3 MB)\n",
            "\u001b[2K   \u001b[90m━━━━━━━━━━━━━━━━━━━━━━━━━━━━━━━━━━━━━━━━\u001b[0m \u001b[32m2.3/2.3 MB\u001b[0m \u001b[31m87.3 MB/s\u001b[0m eta \u001b[36m0:00:00\u001b[0m\n",
            "\u001b[?25hDownloading geotorch-0.3.0-py3-none-any.whl (54 kB)\n",
            "\u001b[2K   \u001b[90m━━━━━━━━━━━━━━━━━━━━━━━━━━━━━━━━━━━━━━━━\u001b[0m \u001b[32m54.8/54.8 kB\u001b[0m \u001b[31m5.7 MB/s\u001b[0m eta \u001b[36m0:00:00\u001b[0m\n",
            "\u001b[?25hDownloading torchdiffeq-0.2.4-py3-none-any.whl (32 kB)\n",
            "Building wheels for collected packages: robustbench, autoattack\n",
            "  Building wheel for robustbench (setup.py) ... \u001b[?25l\u001b[?25hdone\n",
            "  Created wheel for robustbench: filename=robustbench-1.1-py3-none-any.whl size=164212 sha256=4bfd257b00f6d50d8a19242c6ceb8d0854b2db861f2fa11e9f2d55d3e1e6acb9\n",
            "  Stored in directory: /tmp/pip-ephem-wheel-cache-77kaixug/wheels/a6/95/83/6461b55d0c3f761c07216e248dfa511f4d780da4c1e00294b8\n",
            "  Building wheel for autoattack (setup.py) ... \u001b[?25l\u001b[?25hdone\n",
            "  Created wheel for autoattack: filename=autoattack-0.1-py3-none-any.whl size=36228 sha256=0d3a97ae905c200952fe8567854e32f40dfe917ed6e987ca0813e90d8828df62\n",
            "  Stored in directory: /root/.cache/pip/wheels/72/59/98/10a8eb862dabff57be1d1e3b1a3664acc78da7667d2c835584\n",
            "Successfully built robustbench autoattack\n",
            "Installing collected packages: autoattack, torchdiffeq, geotorch, gdown, timm, robustbench\n",
            "  Attempting uninstall: gdown\n",
            "    Found existing installation: gdown 5.2.0\n",
            "    Uninstalling gdown-5.2.0:\n",
            "      Successfully uninstalled gdown-5.2.0\n",
            "Successfully installed autoattack-0.1 gdown-5.1.0 geotorch-0.3.0 robustbench-1.1 timm-1.0.9 torchdiffeq-0.2.4\n"
          ]
        }
      ],
      "source": [
        "pip install git+https://github.com/RobustBench/robustbench.git"
      ]
    },
    {
      "cell_type": "code",
      "execution_count": 2,
      "metadata": {
        "colab": {
          "base_uri": "https://localhost:8080/",
          "height": 769
        },
        "id": "-VcI0iTiKVpE",
        "outputId": "0389c862-20fc-4f4b-ff4b-01c3ca3f14de"
      },
      "outputs": [
        {
          "output_type": "stream",
          "name": "stdout",
          "text": [
            "Downloading https://www.cs.toronto.edu/~kriz/cifar-10-python.tar.gz to ./data/cifar-10-python.tar.gz\n"
          ]
        },
        {
          "output_type": "stream",
          "name": "stderr",
          "text": [
            "100%|██████████| 170498071/170498071 [00:13<00:00, 12932077.10it/s]\n"
          ]
        },
        {
          "output_type": "stream",
          "name": "stdout",
          "text": [
            "Extracting ./data/cifar-10-python.tar.gz to ./data\n",
            "Downloading models/cifar10/Linf/Bartoldson2024Adversarial_WRN-94-16.pt (gdrive_id=1g6o9H1b6vjoBi1USdCBt64C8B8LPiioX).\n"
          ]
        },
        {
          "output_type": "error",
          "ename": "FileURLRetrievalError",
          "evalue": "Failed to retrieve file url:\n\n\tToo many users have viewed or downloaded this file recently. Please\n\ttry accessing the file again later. If the file you are trying to\n\taccess is particularly large or is shared with many people, it may\n\ttake up to 24 hours to be able to view or download the file. If you\n\tstill can't access a file after 24 hours, contact your domain\n\tadministrator.\n\nYou may still be able to access the file from the browser:\n\n\thttps://drive.google.com/uc?id=1g6o9H1b6vjoBi1USdCBt64C8B8LPiioX\n\nbut Gdown can't. Please check connections and permissions.",
          "traceback": [
            "\u001b[0;31m---------------------------------------------------------------------------\u001b[0m",
            "\u001b[0;31mFileURLRetrievalError\u001b[0m                     Traceback (most recent call last)",
            "\u001b[0;32m/usr/local/lib/python3.10/dist-packages/gdown/download.py\u001b[0m in \u001b[0;36mdownload\u001b[0;34m(url, output, quiet, proxy, speed, use_cookies, verify, id, fuzzy, resume, format, user_agent, log_messages)\u001b[0m\n\u001b[1;32m    252\u001b[0m         \u001b[0;32mtry\u001b[0m\u001b[0;34m:\u001b[0m\u001b[0;34m\u001b[0m\u001b[0;34m\u001b[0m\u001b[0m\n\u001b[0;32m--> 253\u001b[0;31m             \u001b[0murl\u001b[0m \u001b[0;34m=\u001b[0m \u001b[0mget_url_from_gdrive_confirmation\u001b[0m\u001b[0;34m(\u001b[0m\u001b[0mres\u001b[0m\u001b[0;34m.\u001b[0m\u001b[0mtext\u001b[0m\u001b[0;34m)\u001b[0m\u001b[0;34m\u001b[0m\u001b[0;34m\u001b[0m\u001b[0m\n\u001b[0m\u001b[1;32m    254\u001b[0m         \u001b[0;32mexcept\u001b[0m \u001b[0mFileURLRetrievalError\u001b[0m \u001b[0;32mas\u001b[0m \u001b[0me\u001b[0m\u001b[0;34m:\u001b[0m\u001b[0;34m\u001b[0m\u001b[0;34m\u001b[0m\u001b[0m\n",
            "\u001b[0;32m/usr/local/lib/python3.10/dist-packages/gdown/download.py\u001b[0m in \u001b[0;36mget_url_from_gdrive_confirmation\u001b[0;34m(contents)\u001b[0m\n\u001b[1;32m     51\u001b[0m             \u001b[0merror\u001b[0m \u001b[0;34m=\u001b[0m \u001b[0mm\u001b[0m\u001b[0;34m.\u001b[0m\u001b[0mgroups\u001b[0m\u001b[0;34m(\u001b[0m\u001b[0;34m)\u001b[0m\u001b[0;34m[\u001b[0m\u001b[0;36m0\u001b[0m\u001b[0;34m]\u001b[0m\u001b[0;34m\u001b[0m\u001b[0;34m\u001b[0m\u001b[0m\n\u001b[0;32m---> 52\u001b[0;31m             \u001b[0;32mraise\u001b[0m \u001b[0mFileURLRetrievalError\u001b[0m\u001b[0;34m(\u001b[0m\u001b[0merror\u001b[0m\u001b[0;34m)\u001b[0m\u001b[0;34m\u001b[0m\u001b[0;34m\u001b[0m\u001b[0m\n\u001b[0m\u001b[1;32m     53\u001b[0m     \u001b[0;32mif\u001b[0m \u001b[0;32mnot\u001b[0m \u001b[0murl\u001b[0m\u001b[0;34m:\u001b[0m\u001b[0;34m\u001b[0m\u001b[0;34m\u001b[0m\u001b[0m\n",
            "\u001b[0;31mFileURLRetrievalError\u001b[0m: Too many users have viewed or downloaded this file recently. Please try accessing the file again later. If the file you are trying to access is particularly large or is shared with many people, it may take up to 24 hours to be able to view or download the file. If you still can't access a file after 24 hours, contact your domain administrator.",
            "\nDuring handling of the above exception, another exception occurred:\n",
            "\u001b[0;31mFileURLRetrievalError\u001b[0m                     Traceback (most recent call last)",
            "\u001b[0;32m<ipython-input-2-591738f89d4d>\u001b[0m in \u001b[0;36m<cell line: 9>\u001b[0;34m()\u001b[0m\n\u001b[1;32m      8\u001b[0m \u001b[0mmodels\u001b[0m\u001b[0;34m=\u001b[0m\u001b[0;34m[\u001b[0m\u001b[0;36m0\u001b[0m\u001b[0;34m,\u001b[0m\u001b[0;36m0\u001b[0m\u001b[0;34m,\u001b[0m\u001b[0;36m0\u001b[0m\u001b[0;34m,\u001b[0m\u001b[0;36m0\u001b[0m\u001b[0;34m,\u001b[0m\u001b[0;36m0\u001b[0m\u001b[0;34m]\u001b[0m\u001b[0;34m\u001b[0m\u001b[0;34m\u001b[0m\u001b[0m\n\u001b[1;32m      9\u001b[0m \u001b[0;32mfor\u001b[0m \u001b[0mmodel_name\u001b[0m \u001b[0;32min\u001b[0m \u001b[0mnames\u001b[0m\u001b[0;34m:\u001b[0m\u001b[0;34m\u001b[0m\u001b[0;34m\u001b[0m\u001b[0m\n\u001b[0;32m---> 10\u001b[0;31m   \u001b[0mmodels\u001b[0m\u001b[0;34m[\u001b[0m\u001b[0mi\u001b[0m\u001b[0;34m]\u001b[0m \u001b[0;34m=\u001b[0m \u001b[0mload_model\u001b[0m\u001b[0;34m(\u001b[0m\u001b[0mmodel_name\u001b[0m\u001b[0;34m=\u001b[0m\u001b[0mmodel_name\u001b[0m\u001b[0;34m,\u001b[0m \u001b[0mdataset\u001b[0m\u001b[0;34m=\u001b[0m\u001b[0;34m'cifar10'\u001b[0m\u001b[0;34m,\u001b[0m \u001b[0mthreat_model\u001b[0m\u001b[0;34m=\u001b[0m\u001b[0;34m'Linf'\u001b[0m\u001b[0;34m)\u001b[0m\u001b[0;34m\u001b[0m\u001b[0;34m\u001b[0m\u001b[0m\n\u001b[0m\u001b[1;32m     11\u001b[0m   \u001b[0mi\u001b[0m\u001b[0;34m=\u001b[0m \u001b[0mi\u001b[0m\u001b[0;34m+\u001b[0m\u001b[0;36m1\u001b[0m\u001b[0;34m\u001b[0m\u001b[0;34m\u001b[0m\u001b[0m\n",
            "\u001b[0;32m/usr/local/lib/python3.10/dist-packages/robustbench/utils.py\u001b[0m in \u001b[0;36mload_model\u001b[0;34m(model_name, model_dir, dataset, threat_model, custom_checkpoint, norm)\u001b[0m\n\u001b[1;32m    162\u001b[0m             \u001b[0mos\u001b[0m\u001b[0;34m.\u001b[0m\u001b[0mmakedirs\u001b[0m\u001b[0;34m(\u001b[0m\u001b[0mmodel_dir_\u001b[0m\u001b[0;34m)\u001b[0m\u001b[0;34m\u001b[0m\u001b[0;34m\u001b[0m\u001b[0m\n\u001b[1;32m    163\u001b[0m         \u001b[0;32mif\u001b[0m \u001b[0;32mnot\u001b[0m \u001b[0mos\u001b[0m\u001b[0;34m.\u001b[0m\u001b[0mpath\u001b[0m\u001b[0;34m.\u001b[0m\u001b[0misfile\u001b[0m\u001b[0;34m(\u001b[0m\u001b[0mmodel_path\u001b[0m\u001b[0;34m)\u001b[0m\u001b[0;34m:\u001b[0m\u001b[0;34m\u001b[0m\u001b[0;34m\u001b[0m\u001b[0m\n\u001b[0;32m--> 164\u001b[0;31m             \u001b[0mdownload_gdrive_new\u001b[0m\u001b[0;34m(\u001b[0m\u001b[0mmodels\u001b[0m\u001b[0;34m[\u001b[0m\u001b[0mmodel_name\u001b[0m\u001b[0;34m]\u001b[0m\u001b[0;34m[\u001b[0m\u001b[0;34m'gdrive_id'\u001b[0m\u001b[0;34m]\u001b[0m\u001b[0;34m,\u001b[0m \u001b[0mmodel_path\u001b[0m\u001b[0;34m)\u001b[0m\u001b[0;34m\u001b[0m\u001b[0;34m\u001b[0m\u001b[0m\n\u001b[0m\u001b[1;32m    165\u001b[0m         \u001b[0mcheckpoint\u001b[0m \u001b[0;34m=\u001b[0m \u001b[0mtorch\u001b[0m\u001b[0;34m.\u001b[0m\u001b[0mload\u001b[0m\u001b[0;34m(\u001b[0m\u001b[0mmodel_path\u001b[0m\u001b[0;34m,\u001b[0m \u001b[0mmap_location\u001b[0m\u001b[0;34m=\u001b[0m\u001b[0mtorch\u001b[0m\u001b[0;34m.\u001b[0m\u001b[0mdevice\u001b[0m\u001b[0;34m(\u001b[0m\u001b[0;34m'cpu'\u001b[0m\u001b[0;34m)\u001b[0m\u001b[0;34m)\u001b[0m\u001b[0;34m\u001b[0m\u001b[0;34m\u001b[0m\u001b[0m\n\u001b[1;32m    166\u001b[0m \u001b[0;34m\u001b[0m\u001b[0m\n",
            "\u001b[0;32m/usr/local/lib/python3.10/dist-packages/robustbench/utils.py\u001b[0m in \u001b[0;36mdownload_gdrive_new\u001b[0;34m(gdrive_id, fname_save)\u001b[0m\n\u001b[1;32m     83\u001b[0m         \u001b[0mfname_save\u001b[0m \u001b[0;34m=\u001b[0m \u001b[0mstr\u001b[0m\u001b[0;34m(\u001b[0m\u001b[0mfname_save\u001b[0m\u001b[0;34m)\u001b[0m\u001b[0;34m\u001b[0m\u001b[0;34m\u001b[0m\u001b[0m\n\u001b[1;32m     84\u001b[0m     \u001b[0mprint\u001b[0m\u001b[0;34m(\u001b[0m\u001b[0;34mf'Downloading {fname_save} (gdrive_id={gdrive_id}).'\u001b[0m\u001b[0;34m)\u001b[0m\u001b[0;34m\u001b[0m\u001b[0;34m\u001b[0m\u001b[0m\n\u001b[0;32m---> 85\u001b[0;31m     \u001b[0mgdown\u001b[0m\u001b[0;34m.\u001b[0m\u001b[0mdownload\u001b[0m\u001b[0;34m(\u001b[0m\u001b[0mid\u001b[0m\u001b[0;34m=\u001b[0m\u001b[0mgdrive_id\u001b[0m\u001b[0;34m,\u001b[0m \u001b[0moutput\u001b[0m\u001b[0;34m=\u001b[0m\u001b[0mfname_save\u001b[0m\u001b[0;34m)\u001b[0m\u001b[0;34m\u001b[0m\u001b[0;34m\u001b[0m\u001b[0m\n\u001b[0m\u001b[1;32m     86\u001b[0m \u001b[0;34m\u001b[0m\u001b[0m\n\u001b[1;32m     87\u001b[0m \u001b[0;34m\u001b[0m\u001b[0m\n",
            "\u001b[0;32m/usr/local/lib/python3.10/dist-packages/gdown/download.py\u001b[0m in \u001b[0;36mdownload\u001b[0;34m(url, output, quiet, proxy, speed, use_cookies, verify, id, fuzzy, resume, format, user_agent, log_messages)\u001b[0m\n\u001b[1;32m    262\u001b[0m                 \u001b[0murl_origin\u001b[0m\u001b[0;34m,\u001b[0m\u001b[0;34m\u001b[0m\u001b[0;34m\u001b[0m\u001b[0m\n\u001b[1;32m    263\u001b[0m             )\n\u001b[0;32m--> 264\u001b[0;31m             \u001b[0;32mraise\u001b[0m \u001b[0mFileURLRetrievalError\u001b[0m\u001b[0;34m(\u001b[0m\u001b[0mmessage\u001b[0m\u001b[0;34m)\u001b[0m\u001b[0;34m\u001b[0m\u001b[0;34m\u001b[0m\u001b[0m\n\u001b[0m\u001b[1;32m    265\u001b[0m \u001b[0;34m\u001b[0m\u001b[0m\n\u001b[1;32m    266\u001b[0m     \u001b[0mfilename_from_url\u001b[0m \u001b[0;34m=\u001b[0m \u001b[0;32mNone\u001b[0m\u001b[0;34m\u001b[0m\u001b[0;34m\u001b[0m\u001b[0m\n",
            "\u001b[0;31mFileURLRetrievalError\u001b[0m: Failed to retrieve file url:\n\n\tToo many users have viewed or downloaded this file recently. Please\n\ttry accessing the file again later. If the file you are trying to\n\taccess is particularly large or is shared with many people, it may\n\ttake up to 24 hours to be able to view or download the file. If you\n\tstill can't access a file after 24 hours, contact your domain\n\tadministrator.\n\nYou may still be able to access the file from the browser:\n\n\thttps://drive.google.com/uc?id=1g6o9H1b6vjoBi1USdCBt64C8B8LPiioX\n\nbut Gdown can't. Please check connections and permissions."
          ]
        }
      ],
      "source": [
        "from robustbench.data import load_cifar10\n",
        "from robustbench import load_model\n",
        "\n",
        "x_test, y_test = load_cifar10(n_examples=50)\n",
        "\n",
        "names = ['Bartoldson2024Adversarial_WRN-94-16','Amini2024MeanSparse','Bartoldson2024Adversarial_WRN-82-8','Bai2024MixedNUTS','Wang2023Better_WRN-70-16']\n",
        "i=0\n",
        "models=[0,0,0,0,0]\n",
        "for model_name in names:\n",
        "  models[i] = load_model(model_name=model_name, dataset='cifar10', threat_model='Linf')\n",
        "  i= i+1\n"
      ]
    },
    {
      "cell_type": "code",
      "execution_count": null,
      "metadata": {
        "id": "hGbknuLZfIrF"
      },
      "outputs": [],
      "source": [
        "import torch\n",
        "!pip install foolbox\n",
        "import foolbox as fb\n",
        "import numpy as np\n",
        "from collections import defaultdict"
      ]
    },
    {
      "cell_type": "code",
      "execution_count": null,
      "metadata": {
        "id": "-YT8VYd9bl_R"
      },
      "outputs": [],
      "source": [
        "\n",
        "# fmodel es el modelo en Foolbox\n",
        "# x_test es el tensor de datos de prueba (imágenes)\n",
        "# y_test son las etiquetas de los datos de prueba\n",
        "\n",
        "# Definir el ataque adversario (LinfPGD)\n",
        "attack = fb.attacks.LinfPGD()\n",
        "\n",
        "# Inicializar contadores para robustez por clase\n",
        "class_correct_clean = defaultdict(int)  # Número de clasificaciones correctas en imágenes limpias\n",
        "class_total = defaultdict(int)          # Número total de imágenes por clase\n",
        "class_correct_adv = defaultdict(int)    # Número de clasificaciones correctas en imágenes adversarias\n",
        "\n",
        "fmodel = fb.PyTorchModel(models[0], bounds=(0, 1))\n",
        "\n",
        "# Realizar el ataque adversario con un epsilon de 8/255\n",
        "_, advs, success = attack(fmodel, x_test.to('cuda:0'), y_test.to('cuda:0'), epsilons=[8/255])\n",
        "\n",
        "# Convertir el tensor de éxito (success) a tipo float\n",
        "success = success.float()\n",
        "\n",
        "# Para cada imagen de prueba, verificar si la predicción es correcta en el set limpio y adversario\n",
        "for i in range(len(y_test)):\n",
        "    label = y_test[i].item()  # Obtener la etiqueta verdadera de la imagen i\n",
        "\n",
        "    # Contar el número total de imágenes por clase\n",
        "    class_total[label] += 1\n",
        "\n",
        "    # Verificar si la predicción en la imagen limpia es correcta\n",
        "    with torch.no_grad():\n",
        "        pred_clean = torch.argmax(fmodel(x_test[i:i+1].to('cuda:0'))).item()\n",
        "    if pred_clean == label:\n",
        "        class_correct_clean[label] += 1\n",
        "\n",
        "    # Verificar si la predicción en la imagen adversaria es correcta\n",
        "    if not success[0][i]:  # success[0][i] indica si el ataque tuvo éxito (True significa que el ataque tuvo éxito)\n",
        "        class_correct_adv[label] += 1\n",
        "\n",
        "# Calcular y mostrar la robustez por clase\n",
        "for cls in range(10):  # Para CIFAR-10 (ajustar para otros conjuntos de datos)\n",
        "    clean_accuracy = class_correct_clean[cls] / class_total[cls]\n",
        "    robust_accuracy = class_correct_adv[cls] / class_total[cls]\n",
        "    print(f\"Clase {cls}: Precisión limpia = {clean_accuracy:.2%}, Precisión robusta = {robust_accuracy:.2%}\")\n"
      ]
    },
    {
      "cell_type": "markdown",
      "source": [],
      "metadata": {
        "id": "R8TcamHcAvMJ"
      }
    },
    {
      "cell_type": "code",
      "source": [
        "# Definir el ataque adversario (LinfPGD)\n",
        "attack = fb.attacks.LinfPGD()\n",
        "\n",
        "# Inicializar contadores para robustez por clase\n",
        "class_correct_clean = defaultdict(int)  # Número de clasificaciones correctas en imágenes limpias\n",
        "class_total = defaultdict(int)          # Número total de imágenes por clase\n",
        "class_correct_adv = defaultdict(int)    # Número de clasificaciones correctas en imágenes adversarias\n",
        "\n",
        "fmodel = fb.PyTorchModel(models[1], bounds=(0, 1))\n",
        "\n",
        "# Realizar el ataque adversario con un epsilon de 8/255\n",
        "_, advs, success = attack(fmodel, x_test.to('cuda:0'), y_test.to('cuda:0'), epsilons=[8/255])\n",
        "\n",
        "# Convertir el tensor de éxito (success) a tipo float\n",
        "success = success.float()\n",
        "\n",
        "# Para cada imagen de prueba, verificar si la predicción es correcta en el set limpio y adversario\n",
        "for i in range(len(y_test)):\n",
        "    label = y_test[i].item()  # Obtener la etiqueta verdadera de la imagen i\n",
        "\n",
        "    # Contar el número total de imágenes por clase\n",
        "    class_total[label] += 1\n",
        "\n",
        "    # Verificar si la predicción en la imagen limpia es correcta\n",
        "    with torch.no_grad():\n",
        "        pred_clean = torch.argmax(fmodel(x_test[i:i+1].to('cuda:0'))).item()\n",
        "    if pred_clean == label:\n",
        "        class_correct_clean[label] += 1\n",
        "\n",
        "    # Verificar si la predicción en la imagen adversaria es correcta\n",
        "    if not success[0][i]:  # success[0][i] indica si el ataque tuvo éxito (True significa que el ataque tuvo éxito)\n",
        "        class_correct_adv[label] += 1\n",
        "\n",
        "# Calcular y mostrar la robustez por clase\n",
        "for cls in range(10):  # Para CIFAR-10 (ajustar para otros conjuntos de datos)\n",
        "    clean_accuracy = class_correct_clean[cls] / class_total[cls]\n",
        "    robust_accuracy = class_correct_adv[cls] / class_total[cls]\n",
        "    print(f\"Clase {cls}: Precisión limpia = {clean_accuracy:.2%}, Precisión robusta = {robust_accuracy:.2%}\")\n"
      ],
      "metadata": {
        "colab": {
          "base_uri": "https://localhost:8080/"
        },
        "id": "Rp333LLprGoh",
        "outputId": "01434d4c-fae7-4251-cb17-837d172e6134"
      },
      "execution_count": null,
      "outputs": [
        {
          "output_type": "stream",
          "name": "stdout",
          "text": [
            "Clase 0: Precisión limpia = 100.00%, Precisión robusta = 100.00%\n",
            "Clase 1: Precisión limpia = 66.67%, Precisión robusta = 33.33%\n",
            "Clase 2: Precisión limpia = 100.00%, Precisión robusta = 50.00%\n",
            "Clase 3: Precisión limpia = 100.00%, Precisión robusta = 100.00%\n",
            "Clase 4: Precisión limpia = 100.00%, Precisión robusta = 40.00%\n",
            "Clase 5: Precisión limpia = 85.71%, Precisión robusta = 57.14%\n",
            "Clase 6: Precisión limpia = 100.00%, Precisión robusta = 77.78%\n",
            "Clase 7: Precisión limpia = 100.00%, Precisión robusta = 75.00%\n",
            "Clase 8: Precisión limpia = 100.00%, Precisión robusta = 100.00%\n",
            "Clase 9: Precisión limpia = 100.00%, Precisión robusta = 87.50%\n"
          ]
        }
      ]
    },
    {
      "cell_type": "code",
      "source": [
        "# Definir el ataque adversario (LinfPGD)\n",
        "attack = fb.attacks.LinfPGD()\n",
        "\n",
        "# Inicializar contadores para robustez por clase\n",
        "class_correct_clean = defaultdict(int)  # Número de clasificaciones correctas en imágenes limpias\n",
        "class_total = defaultdict(int)          # Número total de imágenes por clase\n",
        "class_correct_adv = defaultdict(int)    # Número de clasificaciones correctas en imágenes adversarias\n",
        "\n",
        "fmodel = fb.PyTorchModel(models[2], bounds=(0, 1))\n",
        "\n",
        "# Realizar el ataque adversario con un epsilon de 8/255\n",
        "_, advs, success = attack(fmodel, x_test.to('cuda:0'), y_test.to('cuda:0'), epsilons=[8/255])\n",
        "\n",
        "# Convertir el tensor de éxito (success) a tipo float\n",
        "success = success.float()\n",
        "\n",
        "# Para cada imagen de prueba, verificar si la predicción es correcta en el set limpio y adversario\n",
        "for i in range(len(y_test)):\n",
        "    label = y_test[i].item()  # Obtener la etiqueta verdadera de la imagen i\n",
        "\n",
        "    # Contar el número total de imágenes por clase\n",
        "    class_total[label] += 1\n",
        "\n",
        "    # Verificar si la predicción en la imagen limpia es correcta\n",
        "    with torch.no_grad():\n",
        "        pred_clean = torch.argmax(fmodel(x_test[i:i+1].to('cuda:0'))).item()\n",
        "    if pred_clean == label:\n",
        "        class_correct_clean[label] += 1\n",
        "\n",
        "    # Verificar si la predicción en la imagen adversaria es correcta\n",
        "    if not success[0][i]:  # success[0][i] indica si el ataque tuvo éxito (True significa que el ataque tuvo éxito)\n",
        "        class_correct_adv[label] += 1\n",
        "\n",
        "# Calcular y mostrar la robustez por clase\n",
        "for cls in range(10):  # Para CIFAR-10 (ajustar para otros conjuntos de datos)\n",
        "    clean_accuracy = class_correct_clean[cls] / class_total[cls]\n",
        "    robust_accuracy = class_correct_adv[cls] / class_total[cls]\n",
        "    print(f\"Clase {cls}: Precisión limpia = {clean_accuracy:.2%}, Precisión robusta = {robust_accuracy:.2%}\")\n"
      ],
      "metadata": {
        "colab": {
          "base_uri": "https://localhost:8080/"
        },
        "outputId": "b0e64c91-db60-435e-d64f-96e8ce6b3c3a",
        "id": "_gRUE9fI44YX"
      },
      "execution_count": null,
      "outputs": [
        {
          "output_type": "stream",
          "name": "stdout",
          "text": [
            "Clase 0: Precisión limpia = 100.00%, Precisión robusta = 100.00%\n",
            "Clase 1: Precisión limpia = 66.67%, Precisión robusta = 33.33%\n",
            "Clase 2: Precisión limpia = 100.00%, Precisión robusta = 100.00%\n",
            "Clase 3: Precisión limpia = 100.00%, Precisión robusta = 100.00%\n",
            "Clase 4: Precisión limpia = 100.00%, Precisión robusta = 60.00%\n",
            "Clase 5: Precisión limpia = 85.71%, Precisión robusta = 57.14%\n",
            "Clase 6: Precisión limpia = 100.00%, Precisión robusta = 77.78%\n",
            "Clase 7: Precisión limpia = 100.00%, Precisión robusta = 75.00%\n",
            "Clase 8: Precisión limpia = 100.00%, Precisión robusta = 100.00%\n",
            "Clase 9: Precisión limpia = 100.00%, Precisión robusta = 87.50%\n"
          ]
        }
      ]
    },
    {
      "cell_type": "code",
      "source": [
        "# Definir el ataque adversario (LinfPGD)\n",
        "attack = fb.attacks.LinfPGD()\n",
        "\n",
        "# Inicializar contadores para robustez por clase\n",
        "class_correct_clean = defaultdict(int)  # Número de clasificaciones correctas en imágenes limpias\n",
        "class_total = defaultdict(int)          # Número total de imágenes por clase\n",
        "class_correct_adv = defaultdict(int)    # Número de clasificaciones correctas en imágenes adversarias\n",
        "\n",
        "fmodel = fb.PyTorchModel(models[3], bounds=(0, 1))\n",
        "\n",
        "# Realizar el ataque adversario con un epsilon de 8/255\n",
        "_, advs, success = attack(fmodel, x_test.to('cuda:0'), y_test.to('cuda:0'), epsilons=[8/255])\n",
        "\n",
        "# Convertir el tensor de éxito (success) a tipo float\n",
        "success = success.float()\n",
        "\n",
        "# Para cada imagen de prueba, verificar si la predicción es correcta en el set limpio y adversario\n",
        "for i in range(len(y_test)):\n",
        "    label = y_test[i].item()  # Obtener la etiqueta verdadera de la imagen i\n",
        "\n",
        "    # Contar el número total de imágenes por clase\n",
        "    class_total[label] += 1\n",
        "\n",
        "    # Verificar si la predicción en la imagen limpia es correcta\n",
        "    with torch.no_grad():\n",
        "        pred_clean = torch.argmax(fmodel(x_test[i:i+1].to('cuda:0'))).item()\n",
        "    if pred_clean == label:\n",
        "        class_correct_clean[label] += 1\n",
        "\n",
        "    # Verificar si la predicción en la imagen adversaria es correcta\n",
        "    if not success[0][i]:  # success[0][i] indica si el ataque tuvo éxito (True significa que el ataque tuvo éxito)\n",
        "        class_correct_adv[label] += 1\n",
        "\n",
        "# Calcular y mostrar la robustez por clase\n",
        "for cls in range(10):  # Para CIFAR-10 (ajustar para otros conjuntos de datos)\n",
        "    clean_accuracy = class_correct_clean[cls] / class_total[cls]\n",
        "    robust_accuracy = class_correct_adv[cls] / class_total[cls]\n",
        "    print(f\"Clase {cls}: Precisión limpia = {clean_accuracy:.2%}, Precisión robusta = {robust_accuracy:.2%}\")\n"
      ],
      "metadata": {
        "colab": {
          "base_uri": "https://localhost:8080/"
        },
        "outputId": "29cf5c28-41b6-42b6-dc1e-bff344a76ab8",
        "id": "kFlMRBTU5Cqx"
      },
      "execution_count": null,
      "outputs": [
        {
          "output_type": "stream",
          "name": "stderr",
          "text": [
            "/usr/local/lib/python3.10/dist-packages/robustbench/model_zoo/architectures/mixing_net.py:237: FutureWarning: `torch.cuda.amp.autocast(args...)` is deprecated. Please use `torch.amp.autocast('cuda', args...)` instead.\n",
            "  with torch.cuda.amp.autocast(enabled=enable_autocast):\n"
          ]
        },
        {
          "output_type": "stream",
          "name": "stdout",
          "text": [
            "Clase 0: Precisión limpia = 100.00%, Precisión robusta = 100.00%\n",
            "Clase 1: Precisión limpia = 66.67%, Precisión robusta = 33.33%\n",
            "Clase 2: Precisión limpia = 100.00%, Precisión robusta = 100.00%\n",
            "Clase 3: Precisión limpia = 100.00%, Precisión robusta = 100.00%\n",
            "Clase 4: Precisión limpia = 100.00%, Precisión robusta = 60.00%\n",
            "Clase 5: Precisión limpia = 85.71%, Precisión robusta = 57.14%\n",
            "Clase 6: Precisión limpia = 100.00%, Precisión robusta = 88.89%\n",
            "Clase 7: Precisión limpia = 100.00%, Precisión robusta = 75.00%\n",
            "Clase 8: Precisión limpia = 100.00%, Precisión robusta = 100.00%\n",
            "Clase 9: Precisión limpia = 100.00%, Precisión robusta = 87.50%\n"
          ]
        }
      ]
    },
    {
      "cell_type": "code",
      "source": [],
      "metadata": {
        "id": "-bHNAQmT5D_i"
      },
      "execution_count": null,
      "outputs": []
    },
    {
      "cell_type": "code",
      "source": [
        "# Definir el ataque adversario (LinfPGD)\n",
        "attack = fb.attacks.LinfPGD()\n",
        "\n",
        "# Inicializar contadores para robustez por clase\n",
        "class_correct_clean = defaultdict(int)  # Número de clasificaciones correctas en imágenes limpias\n",
        "class_total = defaultdict(int)          # Número total de imágenes por clase\n",
        "class_correct_adv = defaultdict(int)    # Número de clasificaciones correctas en imágenes adversarias\n",
        "\n",
        "fmodel = fb.PyTorchModel(models[4], bounds=(0, 1))\n",
        "\n",
        "# Realizar el ataque adversario con un epsilon de 8/255\n",
        "_, advs, success = attack(fmodel, x_test.to('cuda:0'), y_test.to('cuda:0'), epsilons=[8/255])\n",
        "\n",
        "# Convertir el tensor de éxito (success) a tipo float\n",
        "success = success.float()\n",
        "\n",
        "# Para cada imagen de prueba, verificar si la predicción es correcta en el set limpio y adversario\n",
        "for i in range(len(y_test)):\n",
        "    label = y_test[i].item()  # Obtener la etiqueta verdadera de la imagen i\n",
        "\n",
        "    # Contar el número total de imágenes por clase\n",
        "    class_total[label] += 1\n",
        "\n",
        "    # Verificar si la predicción en la imagen limpia es correcta\n",
        "    with torch.no_grad():\n",
        "        pred_clean = torch.argmax(fmodel(x_test[i:i+1].to('cuda:0'))).item()\n",
        "    if pred_clean == label:\n",
        "        class_correct_clean[label] += 1\n",
        "\n",
        "    # Verificar si la predicción en la imagen adversaria es correcta\n",
        "    if not success[0][i]:  # success[0][i] indica si el ataque tuvo éxito (True significa que el ataque tuvo éxito)\n",
        "        class_correct_adv[label] += 1\n",
        "\n",
        "# Calcular y mostrar la robustez por clase\n",
        "for cls in range(10):  # Para CIFAR-10 (ajustar para otros conjuntos de datos)\n",
        "    clean_accuracy = class_correct_clean[cls] / class_total[cls]\n",
        "    robust_accuracy = class_correct_adv[cls] / class_total[cls]\n",
        "    print(f\"Clase {cls}: Precisión limpia = {clean_accuracy:.2%}, Precisión robusta = {robust_accuracy:.2%}\")\n"
      ],
      "metadata": {
        "colab": {
          "base_uri": "https://localhost:8080/"
        },
        "outputId": "5ef390da-fc64-429e-c176-fb2741a292fb",
        "id": "5MOVLimd5EVY"
      },
      "execution_count": null,
      "outputs": [
        {
          "output_type": "stream",
          "name": "stdout",
          "text": [
            "Clase 0: Precisión limpia = 100.00%, Precisión robusta = 100.00%\n",
            "Clase 1: Precisión limpia = 100.00%, Precisión robusta = 33.33%\n",
            "Clase 2: Precisión limpia = 100.00%, Precisión robusta = 50.00%\n",
            "Clase 3: Precisión limpia = 100.00%, Precisión robusta = 100.00%\n",
            "Clase 4: Precisión limpia = 100.00%, Precisión robusta = 60.00%\n",
            "Clase 5: Precisión limpia = 85.71%, Precisión robusta = 57.14%\n",
            "Clase 6: Precisión limpia = 100.00%, Precisión robusta = 77.78%\n",
            "Clase 7: Precisión limpia = 100.00%, Precisión robusta = 75.00%\n",
            "Clase 8: Precisión limpia = 100.00%, Precisión robusta = 100.00%\n",
            "Clase 9: Precisión limpia = 100.00%, Precisión robusta = 87.50%\n"
          ]
        }
      ]
    },
    {
      "cell_type": "code",
      "source": [
        "i=0\n",
        "for model in models:\n",
        "  total_params = sum(p.numel() for p in model.parameters())\n",
        "  print(f'El modelo {i} tiene {total_params} parámetros.')\n",
        "  i+=1"
      ],
      "metadata": {
        "colab": {
          "base_uri": "https://localhost:8080/"
        },
        "id": "her7lui_GQqK",
        "outputId": "448b3410-39cd-4fb4-d2ad-5961023cc729"
      },
      "execution_count": null,
      "outputs": [
        {
          "output_type": "stream",
          "name": "stdout",
          "text": [
            "El modelo 0 tiene 365915610 parámetros.\n",
            "El modelo 1 tiene 267240802 parámetros.\n",
            "El modelo 2 tiene 79125466 parámetros.\n",
            "El modelo 3 tiene 499519993 parámetros.\n",
            "El modelo 4 tiene 266796506 parámetros.\n"
          ]
        }
      ]
    }
  ],
  "metadata": {
    "accelerator": "GPU",
    "colab": {
      "gpuType": "A100",
      "provenance": []
    },
    "kernelspec": {
      "display_name": "Python 3",
      "name": "python3"
    },
    "language_info": {
      "name": "python"
    }
  },
  "nbformat": 4,
  "nbformat_minor": 0
}